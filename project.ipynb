{
 "cells": [
  {
   "cell_type": "markdown",
   "metadata": {},
   "source": [
    "## Custom Chatbot Project"
   ]
  },
  {
   "cell_type": "markdown",
   "metadata": {},
   "source": [
    "# Table of Contents\n",
    "- [Dataset](#Dataset:-2023_fashion_trends.csv)\n",
    "- [Data Wrangling](#Data-Wrangling)\n",
    "- [Custom Query Completion](#Custom-Query-Completion)\n",
    "- [Custom Prompt Demonstration](#Custom-Prompt-Demonstration)\n",
    "- [Basic Prompt Demonstration](#Basic-Prompt-Demonstration)\n",
    "- [Chatbot](#chatbot)"
   ]
  },
  {
   "cell_type": "markdown",
   "metadata": {},
   "source": [
    "### Dataset: 2023_fashion_trends.csv\n",
    "\n",
    "This dataset provides insights into the fashion trends for the year 2023. This dataset contains 94 rows. Each row contains the URL, Trends,and Source. \n",
    "\n",
    "I will tranform the dataset to include two columns to create a custom text column in a textual narrative form.\n",
    "\n",
    "For example:\n",
    "\n",
    "text = Source of the Trend. Trend Description.\n",
    "\n",
    "The text column from the transformed dataset will be used to build custom chatbot.\n",
    "\n",
    "Use case scenario:\n",
    "The primary goal of this chatbot is to provide users with information and insights about the latest fashion trends for 2023. It aims to assist fashion enthusiasts, shoppers, and industry professionals in staying updated with the current trends and making informed fashion choices."
   ]
  },
  {
   "cell_type": "markdown",
   "metadata": {},
   "source": [
    "## Data Wrangling"
   ]
  },
  {
   "cell_type": "code",
   "execution_count": 17,
   "metadata": {},
   "outputs": [],
   "source": [
    "import pandas as pd"
   ]
  },
  {
   "cell_type": "code",
   "execution_count": 18,
   "metadata": {},
   "outputs": [
    {
     "data": {
      "text/html": [
       "<div>\n",
       "<style scoped>\n",
       "    .dataframe tbody tr th:only-of-type {\n",
       "        vertical-align: middle;\n",
       "    }\n",
       "\n",
       "    .dataframe tbody tr th {\n",
       "        vertical-align: top;\n",
       "    }\n",
       "\n",
       "    .dataframe thead th {\n",
       "        text-align: right;\n",
       "    }\n",
       "</style>\n",
       "<table border=\"1\" class=\"dataframe\">\n",
       "  <thead>\n",
       "    <tr style=\"text-align: right;\">\n",
       "      <th></th>\n",
       "      <th>URL</th>\n",
       "      <th>Trends</th>\n",
       "      <th>Source</th>\n",
       "    </tr>\n",
       "  </thead>\n",
       "  <tbody>\n",
       "    <tr>\n",
       "      <th>0</th>\n",
       "      <td>https://www.refinery29.com/en-us/fashion-trend...</td>\n",
       "      <td>2023 Fashion Trend: Red. Glossy red hues took ...</td>\n",
       "      <td>7 Fashion Trends That Will Take Over 2023 — Sh...</td>\n",
       "    </tr>\n",
       "    <tr>\n",
       "      <th>1</th>\n",
       "      <td>https://www.refinery29.com/en-us/fashion-trend...</td>\n",
       "      <td>2023 Fashion Trend: Cargo Pants. Utilitarian w...</td>\n",
       "      <td>7 Fashion Trends That Will Take Over 2023 — Sh...</td>\n",
       "    </tr>\n",
       "    <tr>\n",
       "      <th>2</th>\n",
       "      <td>https://www.refinery29.com/en-us/fashion-trend...</td>\n",
       "      <td>2023 Fashion Trend: Sheer Clothing. \"Bare it a...</td>\n",
       "      <td>7 Fashion Trends That Will Take Over 2023 — Sh...</td>\n",
       "    </tr>\n",
       "    <tr>\n",
       "      <th>3</th>\n",
       "      <td>https://www.refinery29.com/en-us/fashion-trend...</td>\n",
       "      <td>2023 Fashion Trend: Denim Reimagined. From dou...</td>\n",
       "      <td>7 Fashion Trends That Will Take Over 2023 — Sh...</td>\n",
       "    </tr>\n",
       "    <tr>\n",
       "      <th>4</th>\n",
       "      <td>https://www.refinery29.com/en-us/fashion-trend...</td>\n",
       "      <td>2023 Fashion Trend: Shine For The Daytime. The...</td>\n",
       "      <td>7 Fashion Trends That Will Take Over 2023 — Sh...</td>\n",
       "    </tr>\n",
       "  </tbody>\n",
       "</table>\n",
       "</div>"
      ],
      "text/plain": [
       "                                                 URL  \\\n",
       "0  https://www.refinery29.com/en-us/fashion-trend...   \n",
       "1  https://www.refinery29.com/en-us/fashion-trend...   \n",
       "2  https://www.refinery29.com/en-us/fashion-trend...   \n",
       "3  https://www.refinery29.com/en-us/fashion-trend...   \n",
       "4  https://www.refinery29.com/en-us/fashion-trend...   \n",
       "\n",
       "                                              Trends  \\\n",
       "0  2023 Fashion Trend: Red. Glossy red hues took ...   \n",
       "1  2023 Fashion Trend: Cargo Pants. Utilitarian w...   \n",
       "2  2023 Fashion Trend: Sheer Clothing. \"Bare it a...   \n",
       "3  2023 Fashion Trend: Denim Reimagined. From dou...   \n",
       "4  2023 Fashion Trend: Shine For The Daytime. The...   \n",
       "\n",
       "                                              Source  \n",
       "0  7 Fashion Trends That Will Take Over 2023 — Sh...  \n",
       "1  7 Fashion Trends That Will Take Over 2023 — Sh...  \n",
       "2  7 Fashion Trends That Will Take Over 2023 — Sh...  \n",
       "3  7 Fashion Trends That Will Take Over 2023 — Sh...  \n",
       "4  7 Fashion Trends That Will Take Over 2023 — Sh...  "
      ]
     },
     "execution_count": 18,
     "metadata": {},
     "output_type": "execute_result"
    }
   ],
   "source": [
    "df = pd.read_csv('./2023_fashion_trends.csv')\n",
    "df.head()"
   ]
  },
  {
   "cell_type": "code",
   "execution_count": 19,
   "metadata": {},
   "outputs": [
    {
     "data": {
      "text/plain": [
       "'7 Fashion Trends That Will Take Over 2023 — Shop Them Now: 2023 Fashion Trend: Red. Glossy red hues took over the Fall 2023 runways ranging from Sandy Liang and PatBo to Tory Burch and Wiederhoeft. Think: Juicy reds with vibrant orange undertones that would look just as good in head-to-toe looks (see: a pantsuit) as accent accessory pieces (shoes, handbags, jewelry)..'"
      ]
     },
     "execution_count": 19,
     "metadata": {},
     "output_type": "execute_result"
    }
   ],
   "source": [
    "df['text'] = df['Source'] + \": \" + df['Trends'] + \".\"\n",
    "df['text'][0] "
   ]
  },
  {
   "cell_type": "code",
   "execution_count": 29,
   "metadata": {},
   "outputs": [
    {
     "data": {
      "text/html": [
       "<div>\n",
       "<style scoped>\n",
       "    .dataframe tbody tr th:only-of-type {\n",
       "        vertical-align: middle;\n",
       "    }\n",
       "\n",
       "    .dataframe tbody tr th {\n",
       "        vertical-align: top;\n",
       "    }\n",
       "\n",
       "    .dataframe thead th {\n",
       "        text-align: right;\n",
       "    }\n",
       "</style>\n",
       "<table border=\"1\" class=\"dataframe\">\n",
       "  <thead>\n",
       "    <tr style=\"text-align: right;\">\n",
       "      <th></th>\n",
       "      <th>text</th>\n",
       "      <th>embeddings</th>\n",
       "    </tr>\n",
       "  </thead>\n",
       "  <tbody>\n",
       "    <tr>\n",
       "      <th>0</th>\n",
       "      <td>7 Fashion Trends That Will Take Over 2023 — Sh...</td>\n",
       "      <td>[-0.007465763948857784, 0.016444619745016098, ...</td>\n",
       "    </tr>\n",
       "    <tr>\n",
       "      <th>1</th>\n",
       "      <td>7 Fashion Trends That Will Take Over 2023 — Sh...</td>\n",
       "      <td>[0.004193933680653572, 0.04125695303082466, 0....</td>\n",
       "    </tr>\n",
       "    <tr>\n",
       "      <th>2</th>\n",
       "      <td>7 Fashion Trends That Will Take Over 2023 — Sh...</td>\n",
       "      <td>[0.061038773506879807, 0.016439247876405716, 0...</td>\n",
       "    </tr>\n",
       "    <tr>\n",
       "      <th>3</th>\n",
       "      <td>7 Fashion Trends That Will Take Over 2023 — Sh...</td>\n",
       "      <td>[0.025815743952989578, 0.032582979649305344, 0...</td>\n",
       "    </tr>\n",
       "    <tr>\n",
       "      <th>4</th>\n",
       "      <td>7 Fashion Trends That Will Take Over 2023 — Sh...</td>\n",
       "      <td>[-0.0011280509643256664, -0.009036949835717678...</td>\n",
       "    </tr>\n",
       "  </tbody>\n",
       "</table>\n",
       "</div>"
      ],
      "text/plain": [
       "                                                text  \\\n",
       "0  7 Fashion Trends That Will Take Over 2023 — Sh...   \n",
       "1  7 Fashion Trends That Will Take Over 2023 — Sh...   \n",
       "2  7 Fashion Trends That Will Take Over 2023 — Sh...   \n",
       "3  7 Fashion Trends That Will Take Over 2023 — Sh...   \n",
       "4  7 Fashion Trends That Will Take Over 2023 — Sh...   \n",
       "\n",
       "                                          embeddings  \n",
       "0  [-0.007465763948857784, 0.016444619745016098, ...  \n",
       "1  [0.004193933680653572, 0.04125695303082466, 0....  \n",
       "2  [0.061038773506879807, 0.016439247876405716, 0...  \n",
       "3  [0.025815743952989578, 0.032582979649305344, 0...  \n",
       "4  [-0.0011280509643256664, -0.009036949835717678...  "
      ]
     },
     "execution_count": 29,
     "metadata": {},
     "output_type": "execute_result"
    }
   ],
   "source": [
    "import openai\n",
    "from openai import OpenAI\n",
    "from dotenv import load_dotenv\n",
    "import os\n",
    "\n",
    "load_dotenv()\n",
    "openai.api_key = os.getenv(\"OPENAI_API_KEY\")\n",
    "\n",
    "client = OpenAI()\n",
    "\n",
    "EMBEDDINGS_MODEL_NAMES = \"text-embedding-3-small\"\n",
    "\n",
    "embeddings = []\n",
    "for text in df['text']:\n",
    "    response = client.embeddings.create(\n",
    "        input=text,\n",
    "        model=EMBEDDINGS_MODEL_NAMES\n",
    "    )\n",
    "    embeddings.append(response.data[0].embedding)\n",
    "\n",
    "df['embeddings'] = embeddings\n",
    "df.head()"
   ]
  },
  {
   "cell_type": "markdown",
   "metadata": {},
   "source": [
    "## Custom Query Completion"
   ]
  },
  {
   "cell_type": "code",
   "execution_count": null,
   "metadata": {},
   "outputs": [],
   "source": [
    "def question_embeddings(question):\n",
    "  response = client.embeddings.create(\n",
    "      input=question,\n",
    "      model=EMBEDDINGS_MODEL_NAMES\n",
    "  )\n",
    "  return response.data[0].embedding"
   ]
  },
  {
   "cell_type": "code",
   "execution_count": 34,
   "metadata": {},
   "outputs": [],
   "source": [
    "from typing import List\n",
    "from scipy import spatial\n",
    "\n",
    "\n",
    "def distances_from_embeddings(query_embedding, embeddings):\n",
    "  return [spatial.distance.cosine(query_embedding, emb) for emb in embeddings]\n",
    "\n",
    "\n",
    "# generate prompts\n",
    "def get_prompt(question, df):\n",
    "  query_embedding = question_embeddings(question)\n",
    "  df['distances'] = distances_from_embeddings(query_embedding, df['embeddings'])\n",
    "  df_sorted = df.sort_values(by='distances')\n",
    "  context = \"\\n\\n###\\n\\n\".join(df_sorted['text'].head(5))\n",
    "  prompt = f\"\"\"\n",
    "Answer the question based on the context below, and if the\n",
    "question can't be answered based on the context, say\n",
    "\"I don't know\"\n",
    "\n",
    "Context:\n",
    "\n",
    "{context}\n",
    "\n",
    "---\n",
    "\n",
    "Question: {question}\n",
    "Answer:\"\"\"\n",
    "  return prompt\n"
   ]
  },
  {
   "cell_type": "code",
   "execution_count": 35,
   "metadata": {},
   "outputs": [],
   "source": [
    "# Test questions\n",
    "q1 = \"What are the key fashion trends for 2023?\"\n",
    "q2 = \"How can I incorporate cobalt blue into my wardrobe?\""
   ]
  },
  {
   "cell_type": "code",
   "execution_count": 36,
   "metadata": {},
   "outputs": [
    {
     "name": "stdout",
     "output_type": "stream",
     "text": [
      "What are the key fashion trends for 2023? How can I incorporate cobalt blue into my wardrobe?\n",
      "-------------------------\n",
      "\n",
      "Answer the question based on the context below, and if the\n",
      "question can't be answered based on the context, say\n",
      "\"I don't know\"\n",
      "\n",
      "Context:\n",
      "\n",
      "Spring/Summer 2023 Fashion Trends: 21 Expert-Approved Looks You Need to See: In a diplomatic turn, designers have extended the lifespan of some noteworthy A/W 22 trends, continuing their exploration of them in 2023, ensuring we get adequate wear out of the pieces in which we've already invested. Elevated basics is one such trend. Last season, there was a clear '90s directive when it came to minimalism, with logo vests, low-slung trousers and tube dresses being hero items. Now, things have been pared back even further; sure, Y2K maxi skirts and oversized suiting are very much a thing, as witnessed on the runways of Peter Do and Roksanda respectively, but the silhouettes are cleaner and the colour palette looks more expensive; think shades of teal, camel and navy..\n",
      "\n",
      "###\n",
      "\n",
      "Spring/Summer 2023 Fashion Trends: 21 Expert-Approved Looks You Need to See: I get it. Some of the trends on this list might not translate seamlessly into everyday life (if you're prepared to wear a completely sheer skirt to run errands in, more power to you). However, if you're looking to invest in something you'll genuinely get the wear of, look no further. Between wide-legs and puddle hemlines, slouchy-fit trousers were one of the biggest trends of 2022. Now, for spring 2023, the best jeans will feature these same design traits. From high-waisted dark-wash flares at Tibi to Bally's effortless double-denim moment complete with floor-grazing lengths, looser-fit denim is resolutely where it's at..\n",
      "\n",
      "###\n",
      "\n",
      "7 Fashion Trends That Will Take Over 2023 — Shop Them Now: 2023 Fashion Trend: Sheer Clothing. \"Bare it all\" has been the motto since the end of the lockdown. In 2023,  naked dressing makes its way from the red carpet – where celebrities like Cher and Rihanna have been sporting the trend forever – to street style. From a cellophane-like dress, worn over a boldly hued maxi skirt at Tory Burch's spring 2023 show, to a frothy frock revealing undergarments at Victoria Beckham, the previously risqué trend is coming not only for your weekend wardrobe but even workwear..\n",
      "\n",
      "###\n",
      "\n",
      "Spring/Summer 2023 Fashion Trends: 21 Expert-Approved Looks You Need to See: \"Every season, there is a trend that speaks to the inner maximalist in us. While autumn gave us lurid neons, biker boots and Y2K glamour, spring/summer 2023 presents something a little sweeter, and those with an aversion to all things 'pretty,' consider this your warning to look away now,\" says Remy Farrell, shopping editor at Who What Wear UK..\n",
      "\n",
      "###\n",
      "\n",
      "Spring/Summer 2023 Fashion Trends: 21 Expert-Approved Looks You Need to See: For spring 2023, there was a more surrealist interpretation with standout 3D designs and runway looks embellished with floral motifs. Standouts included provocative sculptural flowers on mini and maxi dresses paired with bold leaf shoes, says Page..\n",
      "\n",
      "---\n",
      "\n",
      "Question: What are the key fashion trends for 2023?\n",
      "Answer: \n",
      "Answer the question based on the context below, and if the\n",
      "question can't be answered based on the context, say\n",
      "\"I don't know\"\n",
      "\n",
      "Context:\n",
      "\n",
      "7 Fashion Trends That Will Take Over 2023 — Shop Them Now: 2023 Fashion Trend: Cobalt Blue. The strongest color story to come out of Spring 2023 runways, cobalt blue has burst through the collections with the freshness of a sea mist on a morning day. Just bright enough to warrant a double take, yet subtle enough to be worked into daily wear, it's the type of deep blue that will excite even the most color-averse. Bonus points: It pairs well with Pantone's Viva Magenta..\n",
      "\n",
      "###\n",
      "\n",
      "These Are the Spring 2023 Trends Vogue Editors are Wearing Now: Bold Color Bottoms. As someone who tends to lean on a denim crutch most days, this Spring, I’m excited to try a few bold color options like what we saw on the runways of Bottega Veneta, Prada, and Dries Van Noten. These bold, cherry red pants from High Sport are my starting point: their vibrant hue is as immediately uplifting as it is unexpected. I look forward to pairing with whisper-thin henleys, crisp white shirts, and every shoe varietal—the cropped length really lends itself to each and every one.– Daisy Shaw-Ellis, jewelry director .\n",
      "\n",
      "###\n",
      "\n",
      "The Top 6 Trends to Wear for Spring 2023, According to Fashion Experts: Sculptural Bags That Make a Simple Statement. Under the accessories category, CEO and founder of Caitlin Jaymes Organizing & Styling, Caitlyn Jaymes is honing in on sculptural bags that are simple enough to be considered versatile but still make a statement.\n",
      "\n",
      "“[For everyday use], I would purchase it in camel, ivory, or, if I wanted a color option, I would purchase pale green or pale yellow,” she tells InStyle. The style expert goes on to say she could style the staple item in a myriad of ways, but for a casual look, something along the lines of a “straight leg jeans, light knit cardigan, and a white slim sneaker” combo would be her go-to. For dressier occasions, she tells the dot com she’d likely “pair a slip satin long skirt with a white ribbed tank and pointed toe kitten heels.”.\n",
      "\n",
      "###\n",
      "\n",
      "The Top 6 Trends to Wear for Spring 2023, According to Fashion Experts: All of the Pastels. Pastels are classic (albeit slightly cliche) for spring, but they’re often given a bad rap for feeling a bit cheesy. Personal stylist Allie McKenna is here to tell you they’re not.\n",
      "\n",
      "“I am excited about color, especially lilac, pale yellow, and baby blue. I can’t wait to wear a baby blue midi skirt and a silky cami with some chunky colorful jewelry. I will always go for a statement shoe too, so a funky pair of 3-inch heels that compliment the outfit will be a must as well.”.\n",
      "\n",
      "###\n",
      "\n",
      "Spring/Summer 2023 Fashion Trends: 21 Expert-Approved Looks You Need to See: It seems this season is upping the ante when it comes to wearing whites, forging newfound design methods and experimenting with untraditional fabrics for the season. Of course, the real challenge is not how to style a colour so brilliantly simple but how to keep it clean. My advice? Stay clear of all coloured foods, children and the Central Line, adds Rhys-Evans..\n",
      "\n",
      "---\n",
      "\n",
      "Question: How can I incorporate cobalt blue into my wardrobe?\n",
      "Answer:\n"
     ]
    }
   ],
   "source": [
    "q1_prompt=get_prompt(q1, df)\n",
    "q2_prompt=get_prompt(q2, df)\n",
    "print(q1, q2)\n",
    "print('-------------------------')\n",
    "print(q1_prompt, q2_prompt)"
   ]
  },
  {
   "cell_type": "markdown",
   "metadata": {},
   "source": [
    "## Custom Prompt Demonstration"
   ]
  },
  {
   "cell_type": "code",
   "execution_count": 37,
   "metadata": {},
   "outputs": [
    {
     "name": "stdout",
     "output_type": "stream",
     "text": [
      "Some key fashion trends for 2023 include elevated basics, Y2K maxi skirts, oversized suiting, slouchy-fit trousers, wide-leg and puddle hemlines, looser-fit denim, sheer clothing, and 3D designs with floral motifs.\n"
     ]
    }
   ],
   "source": [
    "COMPLETION_MODEL_NAME = \"gpt-3.5-turbo\"\n",
    "response = client.chat.completions.create(\n",
    "    model=COMPLETION_MODEL_NAME,\n",
    "    messages = [\n",
    "        {\n",
    "            \"role\": \"user\",\n",
    "            \"content\": q1_prompt\n",
    "        }\n",
    "    ],\n",
    "    max_tokens=150\n",
    ")\n",
    "print(response.choices[0].message.content)"
   ]
  },
  {
   "cell_type": "code",
   "execution_count": 38,
   "metadata": {},
   "outputs": [
    {
     "name": "stdout",
     "output_type": "stream",
     "text": [
      "You can incorporate cobalt blue into your wardrobe by adding pieces like clothing, shoes, or accessories in that color. It pairs well with other colors like Pantone's Viva Magenta.\n"
     ]
    }
   ],
   "source": [
    "COMPLETION_MODEL_NAME = \"gpt-3.5-turbo\"\n",
    "response = client.chat.completions.create(\n",
    "    model=COMPLETION_MODEL_NAME,\n",
    "    messages = [\n",
    "        {\n",
    "            \"role\": \"user\",\n",
    "            \"content\": q2_prompt\n",
    "        }\n",
    "    ],\n",
    "    max_tokens=150\n",
    ")\n",
    "print(response.choices[0].message.content)"
   ]
  },
  {
   "cell_type": "markdown",
   "metadata": {},
   "source": [
    "## Basic Prompt Demonstration"
   ]
  },
  {
   "cell_type": "code",
   "execution_count": 39,
   "metadata": {},
   "outputs": [
    {
     "name": "stdout",
     "output_type": "stream",
     "text": [
      "1. Sustainability: The focus on eco-friendly and sustainable fashion will continue to be a key trend in 2023, with more brands and designers incorporating sustainable practices into their collections.\n",
      "\n",
      "2. Gender neutral fashion: Gender fluidity and inclusivity will be emphasized in fashion in 2023, with more brands offering gender-neutral clothing options and blurring traditional gender lines.\n",
      "\n",
      "3. Bold and vibrant colors: Bright and bold colors will be a major trend in 2023, with neon shades, vibrant pinks, blues, and greens making a statement in fashion collections.\n",
      "\n",
      "4. Maximalism: Over-the-top, extravagant designs and embellishments will be popular in 2023, as fashion embraces bold prints, textures, and patterns.\n",
      "\n",
      "5. Vintage\n"
     ]
    }
   ],
   "source": [
    "COMPLETION_MODEL_NAME = \"gpt-3.5-turbo\"\n",
    "response = client.chat.completions.create(\n",
    "    model=COMPLETION_MODEL_NAME,\n",
    "    messages = [\n",
    "        {\n",
    "            \"role\": \"user\",\n",
    "            \"content\": q1\n",
    "        }\n",
    "    ],\n",
    "    max_tokens=150\n",
    ")\n",
    "print(response.choices[0].message.content)"
   ]
  },
  {
   "cell_type": "code",
   "execution_count": 40,
   "metadata": {},
   "outputs": [
    {
     "name": "stdout",
     "output_type": "stream",
     "text": [
      "1. Start with accessories: Add a pop of cobalt blue to your outfits with accessories such as shoes, handbags, scarves, or statement jewelry.\n",
      "\n",
      "2. Mix and match: Pair cobalt blue pieces with neutral colors like black, white, or grey for a sophisticated look. Alternatively, you can create a bold and colorful outfit by combining cobalt blue with other bright hues like yellow or pink.\n",
      "\n",
      "3. Go for a cobalt blue statement piece: Invest in a cobalt blue blazer, dress, or coat that can be the focal point of your outfit. This will instantly elevate your look and add a touch of vibrancy to your wardrobe.\n",
      "\n",
      "4. Experiment with different textures: Try incorporating cobalt blue in different fabrics like silk\n"
     ]
    }
   ],
   "source": [
    "COMPLETION_MODEL_NAME = \"gpt-3.5-turbo\"\n",
    "response = client.chat.completions.create(\n",
    "    model=COMPLETION_MODEL_NAME,\n",
    "    messages = [\n",
    "        {\n",
    "            \"role\": \"user\",\n",
    "            \"content\": q2\n",
    "        }\n",
    "    ],\n",
    "    max_tokens=150\n",
    ")\n",
    "print(response.choices[0].message.content)"
   ]
  },
  {
   "cell_type": "markdown",
   "metadata": {},
   "source": [
    "### Chatbot"
   ]
  },
  {
   "cell_type": "code",
   "execution_count": 43,
   "metadata": {},
   "outputs": [
    {
     "name": "stdout",
     "output_type": "stream",
     "text": [
      "Chatbot: The key fashion trends for 2023 include elevated basics, looser-fit denim, sheer clothing, and surrealistic designs with 3D elements and floral motifs.\n",
      "Chatbot: Based on the context provided, the denim trends for 2023 include denim reimagined with double-waisted jeans and carpenter jeans, baggy denim, wide-legs and puddle hemlines, slouchy-fit trousers, denim-on-denim looks, and a return to more relaxed silhouettes and looser-fit denim styles.\n",
      "Chatbot: Cobalt blue, red, lime green, pastel shades like lilac, pale yellow, and baby blue.\n",
      "Chatbot: You can incorporate cobalt blue into your wardrobe by choosing clothing items in that color such as tops, bottoms, dresses, or accessories like bags or shoes. You can also pair cobalt blue pieces with complementary colors like white, black, or magenta for a stylish look.\n",
      "Chatbot: Some ways to style cargo pants this year include pairing them with tailored silhouettes, interesting pocket placements, elevated fabrics like silk and organza, and incorporating colors beyond khaki and olive.\n",
      "Chatbot: You can wear sheer clothing in a work-appropriate way by layering various sheer pieces over one another or opting for subtle sheer tops that add an interesting textural element to your outfit without being too revealing.\n",
      "Chatbot: You can read more about the 2023 fashion trends in fashion magazines, online fashion websites, or by attending fashion shows.\n",
      "Chatbot: The publication \"InStyle\" discusses the trend of sculptural bags.\n",
      "Chatbot: The 2023 fashion trends have continued the exploration of some noteworthy A/W 22 trends, such as elevated basics and looser-fit denim, but with cleaner silhouettes and a more expensive color palette. There is also a shift towards a more understated approach with nudity in a subtle and chic way, as well as a trend towards sweeter, more maximalist styles.\n",
      "Chatbot: Yes, maxi skirts are still in style for 2023.\n",
      "Goodbye!\n"
     ]
    }
   ],
   "source": [
    "def get_chatbot_response(prompt):\n",
    "    response = client.chat.completions.create(\n",
    "        model=COMPLETION_MODEL_NAME,\n",
    "        messages = [\n",
    "            {\n",
    "                \"role\": \"user\",\n",
    "                \"content\": prompt\n",
    "            }\n",
    "        ],\n",
    "        max_tokens=150\n",
    "    )\n",
    "    return response.choices[0].message.content\n",
    "\n",
    "while True:\n",
    "    user_question = input(\"Ask a question about fashion trends (or type 'exit' to quit)\")\n",
    "    if user_question.lower() == 'exit':\n",
    "        print('Goodbye!')\n",
    "        break\n",
    "\n",
    "    custom_prompt = get_prompt(user_question, df)\n",
    "    response = get_chatbot_response(custom_prompt)\n",
    "    print(\"Chatbot:\", response)"
   ]
  },
  {
   "cell_type": "code",
   "execution_count": null,
   "metadata": {},
   "outputs": [],
   "source": []
  }
 ],
 "metadata": {
  "kernelspec": {
   "display_name": "torch",
   "language": "python",
   "name": "python3"
  },
  "language_info": {
   "codemirror_mode": {
    "name": "ipython",
    "version": 3
   },
   "file_extension": ".py",
   "mimetype": "text/x-python",
   "name": "python",
   "nbconvert_exporter": "python",
   "pygments_lexer": "ipython3",
   "version": "3.10.14"
  }
 },
 "nbformat": 4,
 "nbformat_minor": 2
}
